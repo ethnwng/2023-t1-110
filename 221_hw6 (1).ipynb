{
 "cells": [
  {
   "cell_type": "markdown",
   "id": "91f4b292-1649-44b8-9271-9370ed79328e",
   "metadata": {
    "deletable": false,
    "editable": false,
    "nbgrader": {
     "cell_type": "markdown",
     "checksum": "ada0be174e0037b4974ca26dfb344045",
     "grade": false,
     "grade_id": "cell-a4b0535782e8a4cf",
     "locked": true,
     "schema_version": 3,
     "solution": false,
     "task": false
    },
    "tags": []
   },
   "source": [
    "# MATH 221 Homework 6\n",
    "\n",
    "* Enter your solutions in the cells with `YOUR CODE HERE`\n",
    "* Run the tests to verify your results\n",
    "* Some cells contain hidden tests which are only run **after** you submit your work for grading therefore your work may not be entirely correct even if all tests pass\n",
    "* See [Python and Jupyter for UBC Math](https://ubcmath.github.io/python/) and [Mathematical Python](https://patrickwalls.github.io/mathematicalpython/) to learn more about Python"
   ]
  },
  {
   "cell_type": "code",
   "execution_count": 2,
   "id": "4c5f8473-b660-43a6-8057-7abdeb7c5d48",
   "metadata": {
    "deletable": false,
    "editable": false,
    "nbgrader": {
     "cell_type": "code",
     "checksum": "81447055f0d554c166a2850853a6ece6",
     "grade": false,
     "grade_id": "cell-cb7c1e525baed0e9",
     "locked": true,
     "schema_version": 3,
     "solution": false,
     "task": false
    },
    "tags": []
   },
   "outputs": [],
   "source": [
    "import numpy as np\n",
    "import matplotlib.pyplot as plt\n",
    "import scipy.linalg as la"
   ]
  },
  {
   "cell_type": "markdown",
   "id": "a80cb359-10d2-43b2-94dd-e344a598efdf",
   "metadata": {
    "deletable": false,
    "editable": false,
    "nbgrader": {
     "cell_type": "markdown",
     "checksum": "1bb9f719a23997b0e1348f34b5b693ae",
     "grade": false,
     "grade_id": "cell-ad2b1c959891651b",
     "locked": true,
     "schema_version": 3,
     "solution": false,
     "task": false
    },
    "tags": []
   },
   "source": [
    "## Interpolation\n",
    "\n",
    "Consider $d+1$ points $(x_0,y_0),\\dots,(x_d,y_d)$ with different $x$ values (that is $x_i \\ne x_j$ for $i \\ne j$). An **interpolant** for the data is any function $f(x)$ such that $f(x_i) = y_i$ for each $i=0,\\dots,d$. In other words, an interpolant $f(x)$ passes through (or interpolates) the data . There are infinitely many interpolants for any set of data and so we have to make a choice about what kind of function we want to use to interpolate the data.\n",
    "\n",
    "**Polynomial interpolation** is when we choose the interpolant to be a polynomial\n",
    "\n",
    "$$\n",
    "f(x) = c_0 + c_1 x + c_2 x^2 + \\cdots + c_d x^d\n",
    "$$\n",
    "\n",
    "The coefficients $c_0,c_1,\\dots,c_d$ are unknown and we use the data to find them. In particular, each point defines an equation $f(x_i) = y_i$ for each $i=0,\\dots,d$ therefore we use a polynomial of degree $d$ to interpolate $d+1$ points so that the number of equations is equal to the number of unknowns. The system of equations is given by\n",
    "\n",
    "$$\n",
    "\\begin{array}{ccccccccccc}\n",
    "c_0 & + & c_1 x_0 & + & c_2 x_0^2 & + & \\cdots & + & c_d x_0^d & = & y_0 \\\\\n",
    "c_0 & + & c_1 x_1 & + & c_2 x_1^2 & + & \\cdots & + & c_d x_1^d & = & y_1 \\\\\n",
    "& & & & & & & & & \\vdots & \\\\\n",
    "c_0 & + & c_1 x_d & + & c_2 x_d^2 & + & \\cdots & + & c_d x_d^d & = & y_d \\\\\n",
    "\\end{array}\n",
    "$$\n",
    "\n",
    "In matrix notation we have $A \\mathbf{c} = \\mathbf{y}$ where\n",
    "\n",
    "$$\n",
    "A = \\begin{bmatrix} 1 & x_0 & \\cdots & x_0^d \\\\ 1 & x_1 & \\cdots & x_1^d \\\\ \\vdots & \\vdots & \\ddots & \\vdots \\\\ 1 & x_d & \\cdots & x_d^d \\end{bmatrix}\n",
    "\\hspace{1in}\n",
    "\\mathbf{c} = \\begin{bmatrix} c_0 \\\\ c_1 \\\\ \\vdots \\\\ c_d \\end{bmatrix}\n",
    "\\hspace{1in}\n",
    "\\mathbf{y} = \\begin{bmatrix} y_0 \\\\ y_1 \\\\ \\vdots \\\\ y_d \\end{bmatrix}\n",
    "$$\n",
    "\n",
    "For example, let's compute the unique polynomial of degree 2 which interpolates the points $(0,1),(1,0),(2,1)$."
   ]
  },
  {
   "cell_type": "code",
   "execution_count": 3,
   "id": "4368d22c-4923-4ec6-ad7a-4be906d6c701",
   "metadata": {
    "deletable": false,
    "editable": false,
    "nbgrader": {
     "cell_type": "code",
     "checksum": "2da70005fed445179514aad64e7038a8",
     "grade": false,
     "grade_id": "cell-f77e1a5cc7250434",
     "locked": true,
     "schema_version": 3,
     "solution": false,
     "task": false
    },
    "scrolled": true,
    "tags": []
   },
   "outputs": [
    {
     "name": "stdout",
     "output_type": "stream",
     "text": [
      "[ 1. -2.  1.]\n"
     ]
    }
   ],
   "source": [
    "x0 = 0; x1 = 1; x2 = 2;\n",
    "y0 = 1; y1 = 0; y2 = 1;\n",
    "\n",
    "A = np.array([[1,x0,x0**2],[1,x1,x1**2],[1,x2,x2**2]])\n",
    "y = np.array([y0,y1,y2])\n",
    "c = la.solve(A,y)\n",
    "\n",
    "print(c)"
   ]
  },
  {
   "cell_type": "markdown",
   "id": "eddc799f-6d8f-47ac-9f25-7f0b8120a109",
   "metadata": {
    "deletable": false,
    "editable": false,
    "nbgrader": {
     "cell_type": "markdown",
     "checksum": "4cd628c7ca74a8269f0dcd94fb54de7f",
     "grade": false,
     "grade_id": "cell-b77aa1852ea5cc48",
     "locked": true,
     "schema_version": 3,
     "solution": false,
     "task": false
    },
    "tags": []
   },
   "source": [
    "The solution is $f(x) = 1 - 2x + x^2$. Compute the values to check the result:\n",
    "\n",
    "$$\n",
    "\\begin{array}{ccccccc}\n",
    "1 & - & 2 (0) & + & (0)^2 & = & 1 \\\\\n",
    "1 & - & 2 (1) & + & (1)^2 & = & 0 \\\\\n",
    "1 & - & 2 (2) & + & (2)^2 & = & 1\n",
    "\\end{array}\n",
    "$$\n",
    "\n",
    "Success! Plot the polynomial and the data to verify the result:"
   ]
  },
  {
   "cell_type": "code",
   "execution_count": 4,
   "id": "54f8c3ef-d8df-4866-a75b-19be8fccbeb4",
   "metadata": {
    "deletable": false,
    "editable": false,
    "nbgrader": {
     "cell_type": "code",
     "checksum": "b37ca26195b525d4d807af4eb73b25ab",
     "grade": false,
     "grade_id": "cell-72b384f3abf21a8f",
     "locked": true,
     "schema_version": 3,
     "solution": false,
     "task": false
    },
    "tags": []
   },
   "outputs": [
    {
     "data": {
      "image/png": "[encoded data removed]",
      "text/plain": [
       "<Figure size 640x480 with 1 Axes>"
      ]
     },
     "metadata": {},
     "output_type": "display_data"
    }
   ],
   "source": [
    "X = np.linspace(-0.5,2.5,100)\n",
    "Y = c[0] + c[1]*X + c[2]*X**2\n",
    "plt.plot(X,Y)\n",
    "plt.plot([x0,x1,x2],[y0,y1,y2],'.',ms=10)\n",
    "plt.grid(True)\n",
    "plt.show()"
   ]
  },
  {
   "cell_type": "markdown",
   "id": "ac462ea0-d426-4c49-afd7-65c029723e89",
   "metadata": {
    "deletable": false,
    "editable": false,
    "nbgrader": {
     "cell_type": "markdown",
     "checksum": "e3e5654734161d21290eab26c1e2497c",
     "grade": false,
     "grade_id": "cell-aa201eaee1fd922c",
     "locked": true,
     "schema_version": 3,
     "solution": false,
     "task": false
    },
    "tags": []
   },
   "source": [
    "## Problem 1 (3 marks)\n",
    "\n",
    "Compute coefficients $c_0,c_1,c_2$ of the polynomial $f(x) = c_0 + c_1 x + c_2 x^2$ which interpolates the points $(-1,2),(0,-1),(2,1)$. Save the coefficients as a NumPy array called `c1`."
   ]
  },
  {
   "cell_type": "code",
   "execution_count": 6,
   "id": "6bb7b30d-1dba-47ae-91f6-9c6dba628e0d",
   "metadata": {
    "deletable": false,
    "nbgrader": {
     "cell_type": "code",
     "checksum": "1fac8b5938ab161c7ceba3acf44c86a8",
     "grade": false,
     "grade_id": "cell-d2ff8314bb5d535a",
     "locked": false,
     "schema_version": 3,
     "solution": true,
     "task": false
    },
    "tags": []
   },
   "outputs": [
    {
     "name": "stdout",
     "output_type": "stream",
     "text": [
      "[-1.         -1.66666667  1.33333333]\n"
     ]
    }
   ],
   "source": [
    "x0 = -1; x1 =  0; x2 = 2;\n",
    "y0 =  2; y1 = -1; y2 = 1;\n",
    "\n",
    "A = np.array([[1,x0,x0**2],[1,x1,x1**2],[1,x2,x2**2]])\n",
    "y = np.array([y0,y1,y2])\n",
    "c1 = la.solve(A,y)\n",
    "\n",
    "print(c1)"
   ]
  },
  {
   "cell_type": "code",
   "execution_count": 7,
   "id": "eb63398c-0fbe-4a18-b204-9e54d2a886bc",
   "metadata": {
    "deletable": false,
    "editable": false,
    "nbgrader": {
     "cell_type": "code",
     "checksum": "de3771edaebacfe547365eb4250cfacb",
     "grade": true,
     "grade_id": "cell-2b8d4818defd7ec7",
     "locked": true,
     "points": 1,
     "schema_version": 3,
     "solution": false,
     "task": false
    },
    "tags": []
   },
   "outputs": [
    {
     "name": "stdout",
     "output_type": "stream",
     "text": [
      "Problem 1 Test 1: Success!\n"
     ]
    }
   ],
   "source": [
    "\"Check if c1 is a NumPy array with 3 entries (1 mark).\"\n",
    "assert isinstance(c1,np.ndarray) , \"c1 should be a NumPy array.\"\n",
    "assert c1.size == 3 , \"c1 should have 3 entries.\"\n",
    "print(\"Problem 1 Test 1: Success!\")"
   ]
  },
  {
   "cell_type": "code",
   "execution_count": 8,
   "id": "879b2366-6817-4c30-8e29-d281cfee4818",
   "metadata": {
    "deletable": false,
    "editable": false,
    "nbgrader": {
     "cell_type": "code",
     "checksum": "f81efa359d28aca2f56d9b9ce39e34f8",
     "grade": true,
     "grade_id": "cell-90b0473fbfaceac6",
     "locked": true,
     "points": 2,
     "schema_version": 3,
     "solution": false,
     "task": false
    },
    "tags": []
   },
   "outputs": [
    {
     "name": "stdout",
     "output_type": "stream",
     "text": [
      "Problem 1 Test 2: Success!\n"
     ]
    }
   ],
   "source": [
    "\"Check if c1 is has the correct values (2 marks). This cell contains hidden tests.\"\n",
    "assert np.allclose(c1[0] + c1[1]*2 + c1[2]*2**2, 1) , \"Polyniomial should satisfy f(2) = 1.\"\n",
    "assert np.allclose(c1[0] + c1[1]*(-1) + c1[2]*(-1)**2, 2) , \"Polyniomial should satisfy f(-1) = 2.\"\n",
    "print(\"Problem 1 Test 2: Success!\")"
   ]
  },
  {
   "cell_type": "markdown",
   "id": "790bf3a4-215b-4c4a-b112-1f8f4369bd85",
   "metadata": {
    "deletable": false,
    "editable": false,
    "nbgrader": {
     "cell_type": "markdown",
     "checksum": "52d25804ac7d1b5a43943d7e6a3ac253",
     "grade": false,
     "grade_id": "cell-4322400d9e5da0b8",
     "locked": true,
     "schema_version": 3,
     "solution": false,
     "task": false
    },
    "tags": []
   },
   "source": [
    "Plot the polynomial and the data to verify the result:"
   ]
  },
  {
   "cell_type": "code",
   "execution_count": 9,
   "id": "422f2607-d15c-4e5a-9bde-5d0f1b57c233",
   "metadata": {
    "deletable": false,
    "editable": false,
    "nbgrader": {
     "cell_type": "code",
     "checksum": "d3859cc3846decf8933265200400b7ce",
     "grade": false,
     "grade_id": "cell-643e1056625dd092",
     "locked": true,
     "schema_version": 3,
     "solution": false,
     "task": false
    },
    "tags": []
   },
   "outputs": [
    {
     "data": {
      "image/png": "[encoded data removed]",
      "text/plain": [
       "<Figure size 640x480 with 1 Axes>"
      ]
     },
     "metadata": {},
     "output_type": "display_data"
    }
   ],
   "source": [
    "x0 = -1; x1 = 0; x2 = 2;\n",
    "y0 = 2; y1 = -1; y2 = 1;\n",
    "\n",
    "X = np.linspace(-1.5,2.5,100)\n",
    "Y = c1[0] + c1[1]*X + c1[2]*X**2\n",
    "plt.plot(X,Y)\n",
    "plt.plot([x0,x1,x2],[y0,y1,y2],'.',ms=10)\n",
    "plt.grid(True)\n",
    "plt.show()"
   ]
  },
  {
   "cell_type": "markdown",
   "id": "668241ed-2295-49f9-ad0d-efa4a2d3f06e",
   "metadata": {
    "deletable": false,
    "editable": false,
    "nbgrader": {
     "cell_type": "markdown",
     "checksum": "59a020dee438ae98c3d26350f2d522f4",
     "grade": false,
     "grade_id": "cell-a30b9d86f1dbdab4",
     "locked": true,
     "schema_version": 3,
     "solution": false,
     "task": false
    }
   },
   "source": [
    "## Problem 2 (3 marks)\n",
    "\n",
    "Compute coefficients $c_0,c_1,c_2,c_3$ such that the polynomial $p(x) = c_0 + c_1 x + c_2 x^2 + c3 x^3$ interpolates the points\n",
    "\n",
    "$$\n",
    "(-1,3),(1,-4),(2,0),(5,1)\n",
    "$$\n",
    "\n",
    "Save the coefficients as a NumPy array called `c2`."
   ]
  },
  {
   "cell_type": "code",
   "execution_count": 10,
   "id": "6da239c2-01a4-4b8a-a176-50553f7be6a2",
   "metadata": {
    "deletable": false,
    "nbgrader": {
     "cell_type": "code",
     "checksum": "ec1413f7cb8c5383aff9ae035b5851b9",
     "grade": false,
     "grade_id": "cell-3753f84009fdcb74",
     "locked": false,
     "schema_version": 3,
     "solution": true,
     "task": false
    },
    "tags": []
   },
   "outputs": [
    {
     "name": "stdout",
     "output_type": "stream",
     "text": [
      "[-4.13888889 -2.93055556  3.63888889 -0.56944444]\n"
     ]
    }
   ],
   "source": [
    "x0 = -1; x1 =  1; x2 = 2; x3 = 5;\n",
    "y0 =  3; y1 = -4; y2 = 0; y3 = 1;\n",
    "\n",
    "A = np.array([[1,x0,x0**2,x0**3],[1,x1,x1**2,x1**3],[1,x2,x2**2,x2**3],[1,x3,x3**2,x3**3]])\n",
    "y = np.array([y0,y1,y2,y3])\n",
    "c2 = la.solve(A,y)\n",
    "\n",
    "print(c2)"
   ]
  },
  {
   "cell_type": "code",
   "execution_count": 11,
   "id": "44f600ae-e132-4577-98ab-61f2af44ad4b",
   "metadata": {
    "deletable": false,
    "editable": false,
    "nbgrader": {
     "cell_type": "code",
     "checksum": "72f14f587cb1342e9234f998be608ba8",
     "grade": true,
     "grade_id": "cell-ed9d00296fc05733",
     "locked": true,
     "points": 1,
     "schema_version": 3,
     "solution": false,
     "task": false
    },
    "tags": []
   },
   "outputs": [
    {
     "name": "stdout",
     "output_type": "stream",
     "text": [
      "Problem 2 Test 1: Success!\n"
     ]
    }
   ],
   "source": [
    "\"Check if c2 is a NumPy array with 4 entries (1 mark).\"\n",
    "assert isinstance(c2,np.ndarray) , \"c2 should be a NumPy array.\"\n",
    "assert c2.size == 4 , \"c2 should have 4 entries.\"\n",
    "print(\"Problem 2 Test 1: Success!\")"
   ]
  },
  {
   "cell_type": "code",
   "execution_count": 12,
   "id": "c3452489-df01-459e-af5a-08e6dc5a9104",
   "metadata": {
    "deletable": false,
    "editable": false,
    "nbgrader": {
     "cell_type": "code",
     "checksum": "6d4499d8f136ef68ab6fafde27201e25",
     "grade": true,
     "grade_id": "cell-4a6243e1654c7a5a",
     "locked": true,
     "points": 2,
     "schema_version": 3,
     "solution": false,
     "task": false
    },
    "tags": []
   },
   "outputs": [
    {
     "name": "stdout",
     "output_type": "stream",
     "text": [
      "Problem 2 Test 2: Success!\n"
     ]
    }
   ],
   "source": [
    "\"Check if c2 is has the correct values (2 marks). This cell contains hidden tests.\"\n",
    "assert np.allclose(c2[0] + c2[1]*5 + c2[2]*5**2 + c2[3]*5**3, 1) , \"Polyniomial should satisfy f(5) = 1.\"\n",
    "print(\"Problem 2 Test 2: Success!\")"
   ]
  },
  {
   "cell_type": "markdown",
   "id": "003664d5-2a99-4616-acc5-082728f31bdb",
   "metadata": {
    "deletable": false,
    "editable": false,
    "nbgrader": {
     "cell_type": "markdown",
     "checksum": "c961538d52488f2cbf56d115e40cb051",
     "grade": false,
     "grade_id": "cell-52d1a5f7f7d9e3d0",
     "locked": true,
     "schema_version": 3,
     "solution": false,
     "task": false
    },
    "tags": []
   },
   "source": [
    "Plot the polynomial and the data to verify the result:"
   ]
  },
  {
   "cell_type": "code",
   "execution_count": 13,
   "id": "ff8ab33b-b034-45e5-ae8e-9bd32e8e5ae9",
   "metadata": {
    "deletable": false,
    "editable": false,
    "nbgrader": {
     "cell_type": "code",
     "checksum": "40c42b6cf8a1d8c7a050eb14be51584a",
     "grade": false,
     "grade_id": "cell-607e1065b2f03083",
     "locked": true,
     "schema_version": 3,
     "solution": false,
     "task": false
    },
    "tags": []
   },
   "outputs": [
    {
     "data": {
      "image/png": "[encoded data removed]",
      "text/plain": [
       "<Figure size 640x480 with 1 Axes>"
      ]
     },
     "metadata": {},
     "output_type": "display_data"
    }
   ],
   "source": [
    "x = np.array([-1,1,2,5])\n",
    "y = np.array([3,-4,0,1])\n",
    "X = np.linspace(-1.5,5.5,100)\n",
    "Y = c2[0] + c2[1]*X + c2[2]*X**2 + c2[3]*X**3\n",
    "plt.plot(X,Y)\n",
    "plt.plot(x,y,'.',ms=10)\n",
    "plt.grid(True)\n",
    "plt.show()"
   ]
  },
  {
   "cell_type": "markdown",
   "id": "0a482a0a-3fc5-4e4d-a71c-d47ed3c61e1f",
   "metadata": {
    "deletable": false,
    "editable": false,
    "nbgrader": {
     "cell_type": "markdown",
     "checksum": "ff567e92b5f00fd2e5f19f0418d61bcf",
     "grade": false,
     "grade_id": "cell-af51a7f61806b096",
     "locked": true,
     "schema_version": 3,
     "solution": false,
     "task": false
    },
    "tags": []
   },
   "source": [
    "## Vandermonde Matrix\n",
    "\n",
    "The matrix $A$ in polynomial interpolation is called the [Vandermonde matrix](https://en.wikipedia.org/wiki/Vandermonde_matrix) for the points $x_0,x_1,\\dots,x_d$. Use the NumPy function `np.vander` to create the Vandermonde matrix for a vector of $x$ values:"
   ]
  },
  {
   "cell_type": "code",
   "execution_count": 3,
   "id": "5c86d5b1-8952-4ff3-a37f-d52160fec976",
   "metadata": {
    "deletable": false,
    "editable": false,
    "nbgrader": {
     "cell_type": "code",
     "checksum": "a77e3eeb3f357dd9659d1953ad69b8be",
     "grade": false,
     "grade_id": "cell-6a1efa4058dd01e0",
     "locked": true,
     "schema_version": 3,
     "solution": false,
     "task": false
    },
    "tags": []
   },
   "outputs": [
    {
     "name": "stdout",
     "output_type": "stream",
     "text": [
      "[[  1  -2   4  -8  16 -32]\n",
      " [  1  -1   1  -1   1  -1]\n",
      " [  1   0   0   0   0   0]\n",
      " [  1   1   1   1   1   1]\n",
      " [  1   2   4   8  16  32]\n",
      " [  1   3   9  27  81 243]]\n"
     ]
    }
   ],
   "source": [
    "x = np.array([-2,-1,0,1,2,3])\n",
    "A = np.vander(x,increasing=True)\n",
    "print(A)"
   ]
  },
  {
   "cell_type": "markdown",
   "id": "ad9cb722-2e5e-43d9-8b9d-1fb1487f7cd3",
   "metadata": {
    "deletable": false,
    "editable": false,
    "nbgrader": {
     "cell_type": "markdown",
     "checksum": "9b645c2e4fbe8a34e09b9554a813787f",
     "grade": false,
     "grade_id": "cell-0a1b5fd2e2d4de1e",
     "locked": true,
     "schema_version": 3,
     "solution": false,
     "task": false
    }
   },
   "source": [
    "The argument `increasing=True` builds the matrix such that the powers of the $x$ values increase from left to right. Let's use the result to compute the coefficients of the polynomial which interpolates the data\n",
    "\n",
    "$$\n",
    "(-2,0),(-1,0),(0,1),(1,0),(2,0),(3,0)\n",
    "$$"
   ]
  },
  {
   "cell_type": "code",
   "execution_count": 4,
   "id": "f76b816b-af7d-4eb6-aa80-4a862d1fc68c",
   "metadata": {
    "deletable": false,
    "editable": false,
    "nbgrader": {
     "cell_type": "code",
     "checksum": "ecc4ce5bbd1359a3e82e7e438734365c",
     "grade": false,
     "grade_id": "cell-98015c392227466e",
     "locked": true,
     "schema_version": 3,
     "solution": false,
     "task": false
    },
    "tags": []
   },
   "outputs": [
    {
     "name": "stdout",
     "output_type": "stream",
     "text": [
      "[ 1.         -0.33333333 -1.25        0.41666667  0.25       -0.08333333]\n"
     ]
    }
   ],
   "source": [
    "y = np.array([0,0,1,0,0,0])\n",
    "c = la.solve(A,y)\n",
    "print(c)"
   ]
  },
  {
   "cell_type": "markdown",
   "id": "d979261a-4cd4-4014-b74f-ae5e68bdc1b0",
   "metadata": {
    "deletable": false,
    "editable": false,
    "nbgrader": {
     "cell_type": "markdown",
     "checksum": "888ea5f33b562830f94f450894f0c5ee",
     "grade": false,
     "grade_id": "cell-e857a3f010c543a9",
     "locked": true,
     "schema_version": 3,
     "solution": false,
     "task": false
    },
    "tags": []
   },
   "source": [
    "Plot the polynomial and the data to verify the result:"
   ]
  },
  {
   "cell_type": "code",
   "execution_count": 5,
   "id": "c489c035-5f9a-4a32-9c75-884dec6ebced",
   "metadata": {
    "deletable": false,
    "editable": false,
    "nbgrader": {
     "cell_type": "code",
     "checksum": "a64064a172c18969b5910d764af4f887",
     "grade": false,
     "grade_id": "cell-a1cbc1e79682bd87",
     "locked": true,
     "schema_version": 3,
     "solution": false,
     "task": false
    },
    "tags": []
   },
   "outputs": [
    {
     "data": {
      "image/png": "[encoded data removed]",
      "text/plain": [
       "<Figure size 640x480 with 1 Axes>"
      ]
     },
     "metadata": {},
     "output_type": "display_data"
    }
   ],
   "source": [
    "X = np.linspace(-2.5,3.5,100)\n",
    "Y = c[0] + c[1]*X + c[2]*X**2 + c[3]*X**3 + c[4]*X**4 + c[5]*X**5\n",
    "plt.plot(X,Y)\n",
    "plt.plot(x,y,'.',ms=10)\n",
    "plt.grid(True)\n",
    "plt.show()"
   ]
  },
  {
   "cell_type": "markdown",
   "id": "f655597c-62de-47a5-99d5-09c560055e53",
   "metadata": {
    "deletable": false,
    "editable": false,
    "nbgrader": {
     "cell_type": "markdown",
     "checksum": "6ff484faac85d077d84f0de36c1f8bdd",
     "grade": false,
     "grade_id": "cell-96c79698fb0709af",
     "locked": true,
     "schema_version": 3,
     "solution": false,
     "task": false
    },
    "tags": []
   },
   "source": [
    "## Problem 3 (3 marks)\n",
    "\n",
    "Construct the Vandermonde matrix for the $x$ values $-5,-2,0,1,4,6$. Save the matrix as `A3`."
   ]
  },
  {
   "cell_type": "code",
   "execution_count": 6,
   "id": "de442be2-4617-456e-b2d9-0c6975d054f7",
   "metadata": {
    "deletable": false,
    "nbgrader": {
     "cell_type": "code",
     "checksum": "89d217276d961a614187f25468393535",
     "grade": false,
     "grade_id": "cell-2d58343ea1599f8e",
     "locked": false,
     "schema_version": 3,
     "solution": true,
     "task": false
    },
    "tags": []
   },
   "outputs": [
    {
     "name": "stdout",
     "output_type": "stream",
     "text": [
      "[[    1    -5    25  -125   625 -3125]\n",
      " [    1    -2     4    -8    16   -32]\n",
      " [    1     0     0     0     0     0]\n",
      " [    1     1     1     1     1     1]\n",
      " [    1     4    16    64   256  1024]\n",
      " [    1     6    36   216  1296  7776]]\n"
     ]
    }
   ],
   "source": [
    "x = np.array([-5,-2,0,1,4,6])\n",
    "A3 = np.vander(x,increasing=True)\n",
    "print(A3)"
   ]
  },
  {
   "cell_type": "code",
   "execution_count": 7,
   "id": "434fbd00-00ec-4835-afc3-decd08448fbf",
   "metadata": {
    "deletable": false,
    "editable": false,
    "nbgrader": {
     "cell_type": "code",
     "checksum": "d493d46e44da0f8548edbf279f1b3323",
     "grade": true,
     "grade_id": "cell-e6bf29ef5bb2f6a4",
     "locked": true,
     "points": 1,
     "schema_version": 3,
     "solution": false,
     "task": false
    },
    "tags": []
   },
   "outputs": [
    {
     "name": "stdout",
     "output_type": "stream",
     "text": [
      "Problem 3 Test 1: Success!\n"
     ]
    }
   ],
   "source": [
    "\"Check if A3 is a 6 by 6 NumPy array (1 mark).\"\n",
    "assert isinstance(A3,np.ndarray) , \"A3 should be a NumPy array.\"\n",
    "assert A3.shape == (6,6) , \"A3 should be 6 by 6.\"\n",
    "print(\"Problem 3 Test 1: Success!\")"
   ]
  },
  {
   "cell_type": "code",
   "execution_count": 8,
   "id": "157c25cf-390c-4268-8a3a-f75388ceb936",
   "metadata": {
    "deletable": false,
    "editable": false,
    "nbgrader": {
     "cell_type": "code",
     "checksum": "b3433049c9f1eb447da6547e6e450531",
     "grade": true,
     "grade_id": "cell-fb2e9ebf32112bf4",
     "locked": true,
     "points": 2,
     "schema_version": 3,
     "solution": false,
     "task": false
    },
    "tags": []
   },
   "outputs": [
    {
     "name": "stdout",
     "output_type": "stream",
     "text": [
      "Problem 3 Test 2: Success!\n"
     ]
    }
   ],
   "source": [
    "\"Check if A3 has the correct values (2 marks). This cell contains hidden tests. \"\n",
    "assert np.allclose(A3[0,:],[1,-5,(-5)**2,(-5)**3,(-5)**4,(-5)**5]) , \"Row of A3 at index 0 should be [1,-5,25,-125,625,-3125].\"\n",
    "assert np.allclose(A3[4,:],[1,4,4**2,4**3,4**4,4**5]) , \"Row of A3 at index 4 should be [1,4,16,64,256,1024].\"\n",
    "print(\"Problem 3 Test 2: Success!\")"
   ]
  },
  {
   "cell_type": "markdown",
   "id": "6b3f0c9f-4685-4043-8b1f-95657f55cb20",
   "metadata": {
    "deletable": false,
    "editable": false,
    "nbgrader": {
     "cell_type": "markdown",
     "checksum": "cfa43afbd459d2b9dbf96e551d55173c",
     "grade": false,
     "grade_id": "cell-1ea605e14bb888b3",
     "locked": true,
     "schema_version": 3,
     "solution": false,
     "task": false
    },
    "tags": []
   },
   "source": [
    "Use the matrix `A3` to compute the coefficients of the polynomial which interpolates the data\n",
    "\n",
    "$$\n",
    "(-5,1),(-2,5),(0,3),(1,-2),(4,0),(6,-1)\n",
    "$$\n",
    "\n",
    "Save the coefficients as a NumPy array called `c3`."
   ]
  },
  {
   "cell_type": "code",
   "execution_count": 9,
   "id": "453b38c1-01f1-4259-bb1c-d5551655f7de",
   "metadata": {
    "deletable": false,
    "nbgrader": {
     "cell_type": "code",
     "checksum": "26eca8362574e51d91046bd4a78891e7",
     "grade": false,
     "grade_id": "cell-3e9ab0dc946fcbd0",
     "locked": false,
     "schema_version": 3,
     "solution": true,
     "task": false
    },
    "tags": []
   },
   "outputs": [
    {
     "name": "stdout",
     "output_type": "stream",
     "text": [
      "[ 3.         -4.62441077 -0.9595679   0.56026936  0.03813131 -0.014422  ]\n"
     ]
    }
   ],
   "source": [
    "y = np.array([1,5,3,-2,0,-1])\n",
    "c3 = la.solve (A3,y)\n",
    "\n",
    "print(c3)"
   ]
  },
  {
   "cell_type": "code",
   "execution_count": 10,
   "id": "15826fce-a9b8-4462-b499-87eef5f37a8c",
   "metadata": {
    "deletable": false,
    "editable": false,
    "nbgrader": {
     "cell_type": "code",
     "checksum": "8a6a63259a23e478d2520d2fcf4f0aed",
     "grade": true,
     "grade_id": "cell-30cf9bb86599a04c",
     "locked": true,
     "points": 1,
     "schema_version": 3,
     "solution": false,
     "task": false
    },
    "tags": []
   },
   "outputs": [
    {
     "name": "stdout",
     "output_type": "stream",
     "text": [
      "Problem 3 Test 3: Success!\n"
     ]
    }
   ],
   "source": [
    "\"Check if c3 is NumPy array of size 6 (1 mark).\"\n",
    "assert isinstance(c3,np.ndarray) , \"c3 should be a NumPy array.\"\n",
    "assert c3.size == 6 , \"c3 should have 6 entries.\"\n",
    "print(\"Problem 3 Test 3: Success!\")"
   ]
  },
  {
   "cell_type": "code",
   "execution_count": 11,
   "id": "df0c6a95-7dff-4ac1-b5bb-403ecdab2842",
   "metadata": {
    "deletable": false,
    "editable": false,
    "nbgrader": {
     "cell_type": "code",
     "checksum": "f7356995697319845716762ae71c871d",
     "grade": true,
     "grade_id": "cell-880b35c3682cb978",
     "locked": true,
     "points": 2,
     "schema_version": 3,
     "solution": false,
     "task": false
    },
    "tags": []
   },
   "outputs": [
    {
     "name": "stdout",
     "output_type": "stream",
     "text": [
      "Problem 3 Test 4: Success!\n"
     ]
    }
   ],
   "source": [
    "\"Check if c3 has the correct values (2 marks). This cell contains hidden tests.\"\n",
    "assert np.allclose(c3[0],3) , \"Constant coefficient should be 3.\"\n",
    "assert np.allclose(c3[5],-0.014421998) , \"Degree 5 coefficient should be -0.014421998.\"\n",
    "print(\"Problem 3 Test 4: Success!\")"
   ]
  },
  {
   "cell_type": "markdown",
   "id": "347558c7-eb5b-4d0e-ade7-72c3be0572a8",
   "metadata": {
    "deletable": false,
    "editable": false,
    "nbgrader": {
     "cell_type": "markdown",
     "checksum": "98d7ac680f1f7f47d4186616a1571bd1",
     "grade": false,
     "grade_id": "cell-427fa6dbd5da3caa",
     "locked": true,
     "schema_version": 3,
     "solution": false,
     "task": false
    },
    "tags": []
   },
   "source": [
    "Plot the polynomial and the data to verify the result:"
   ]
  },
  {
   "cell_type": "code",
   "execution_count": 12,
   "id": "b201ef8a-16d7-4c85-a2d4-cd9300ca3dad",
   "metadata": {
    "deletable": false,
    "editable": false,
    "nbgrader": {
     "cell_type": "code",
     "checksum": "62b212d7229be874a1b04280ceae7504",
     "grade": false,
     "grade_id": "cell-7170bcd8357b7275",
     "locked": true,
     "schema_version": 3,
     "solution": false,
     "task": false
    },
    "tags": []
   },
   "outputs": [
    {
     "data": {
      "image/png": "[encoded data removed]",
      "text/plain": [
       "<Figure size 640x480 with 1 Axes>"
      ]
     },
     "metadata": {},
     "output_type": "display_data"
    }
   ],
   "source": [
    "X = np.linspace(-5.5,6.5,100)\n",
    "Y = sum([c3[i]*X**i for i in range(len(c3))])\n",
    "plt.plot(X,Y)\n",
    "x = [-5,-2,0,1,4,6]\n",
    "y = [1,5,3,-2,0,-1]\n",
    "plt.plot(x,y,'.',ms=10)\n",
    "plt.grid(True)\n",
    "plt.show()"
   ]
  },
  {
   "cell_type": "markdown",
   "id": "43d2be3b-d6b2-4522-ba8c-687d2a3cad5c",
   "metadata": {
    "deletable": false,
    "editable": false,
    "nbgrader": {
     "cell_type": "markdown",
     "checksum": "c209c9ff0d590cdb0d99c01d6f90eacf",
     "grade": false,
     "grade_id": "cell-26bc23cb6a08d3df",
     "locked": true,
     "schema_version": 3,
     "solution": false,
     "task": false
    },
    "tags": []
   },
   "source": [
    "## Problem 4 (3 marks)\n",
    "\n",
    "Compute the coefficients of the polynomial of degree 10 which interpolates the 11 points $(x_n,\\sin(\\pi x_n))$ where $x_n = n/10$ for $n=0,\\dots,10$.  Save the coefficients as a NumPy array `c4`.\n",
    "\n",
    "The code below computes the vectors of $x$ and $y$ values:"
   ]
  },
  {
   "cell_type": "code",
   "execution_count": 16,
   "id": "2e0b44eb-61fb-450f-997c-8e83ace37191",
   "metadata": {
    "deletable": false,
    "editable": false,
    "nbgrader": {
     "cell_type": "code",
     "checksum": "f82a157e1fc28f3aacef303055cf387c",
     "grade": false,
     "grade_id": "cell-8ee2ca9e0c5edf76",
     "locked": true,
     "schema_version": 3,
     "solution": false,
     "task": false
    },
    "tags": []
   },
   "outputs": [
    {
     "name": "stdout",
     "output_type": "stream",
     "text": [
      "x = [0.  0.1 0.2 0.3 0.4 0.5 0.6 0.7 0.8 0.9 1. ]\n",
      "y = [0.       0.309017 0.587785 0.809017 0.951057 1.       0.951057 0.809017\n",
      " 0.587785 0.309017 0.      ]\n"
     ]
    }
   ],
   "source": [
    "N = 10\n",
    "x = np.linspace(0,10,11)/N\n",
    "print('x =',x)\n",
    "y = np.sin(np.pi*x)\n",
    "print('y =',y.round(6))"
   ]
  },
  {
   "cell_type": "code",
   "execution_count": 20,
   "id": "a0ac6f85-f1c9-4eb8-a32c-20780fb544f7",
   "metadata": {
    "deletable": false,
    "nbgrader": {
     "cell_type": "code",
     "checksum": "17a09f4fd69626b34dbd8d55be744c76",
     "grade": false,
     "grade_id": "cell-feb90d6270e32fa4",
     "locked": false,
     "schema_version": 3,
     "solution": true,
     "task": false
    },
    "tags": []
   },
   "outputs": [
    {
     "name": "stdout",
     "output_type": "stream",
     "text": [
      "[ 0.00000000e+00  3.14159299e+00 -1.04708077e-05 -5.16757591e+00\n",
      " -1.00448549e-03  2.55481223e+00 -1.43385074e-02 -5.69058331e-01\n",
      " -4.34827561e-02  1.23831559e-01 -2.47663118e-02]\n"
     ]
    }
   ],
   "source": [
    "A = np.vander(x, increasing=True)\n",
    "c4 = la.solve(A,y)\n",
    "\n",
    "print(c4)"
   ]
  },
  {
   "cell_type": "code",
   "execution_count": 21,
   "id": "18c90fda-7235-4798-834c-5cb7afc41dff",
   "metadata": {
    "deletable": false,
    "editable": false,
    "nbgrader": {
     "cell_type": "code",
     "checksum": "2d309fc1e42b2230cd0dd7e9b82c54de",
     "grade": true,
     "grade_id": "cell-1bb3ebf4a522689c",
     "locked": true,
     "points": 1,
     "schema_version": 3,
     "solution": false,
     "task": false
    },
    "tags": []
   },
   "outputs": [
    {
     "name": "stdout",
     "output_type": "stream",
     "text": [
      "Problem 4 Test 1: Success!\n"
     ]
    }
   ],
   "source": [
    "\"Check if c4 is a NumPy array of size 11 (1 mark).\"\n",
    "assert isinstance(c4,np.ndarray) , \"c4 should be a NumPy array.\"\n",
    "assert c4.size == 11 , \"c4 should have 11 entries.\"\n",
    "print(\"Problem 4 Test 1: Success!\")"
   ]
  },
  {
   "cell_type": "code",
   "execution_count": 22,
   "id": "8de6921f-cd81-45f5-b783-ce747b3c243b",
   "metadata": {
    "deletable": false,
    "editable": false,
    "nbgrader": {
     "cell_type": "code",
     "checksum": "43470122fc129001834ef6a6e7456aff",
     "grade": true,
     "grade_id": "cell-a0b6e214fdf388ea",
     "locked": true,
     "points": 2,
     "schema_version": 3,
     "solution": false,
     "task": false
    },
    "tags": []
   },
   "outputs": [
    {
     "name": "stdout",
     "output_type": "stream",
     "text": [
      "Problem 4 Test 2: Success!\n"
     ]
    }
   ],
   "source": [
    "\"Check if c3 has the corredct values (2 marks). This cell contains hidden tests.\"\n",
    "assert np.allclose(c4[0],0) , \"Constant term should be 0.\"\n",
    "assert np.allclose(c4[1],np.pi) , \"Degree 1 term should be pi.\"\n",
    "print(\"Problem 4 Test 2: Success!\")"
   ]
  },
  {
   "cell_type": "markdown",
   "id": "11247e1f-1224-411c-baab-80656e59875c",
   "metadata": {
    "deletable": false,
    "editable": false,
    "nbgrader": {
     "cell_type": "markdown",
     "checksum": "906680fb1b0ac967d1717e0795292f03",
     "grade": false,
     "grade_id": "cell-4bf828032c6be647",
     "locked": true,
     "schema_version": 3,
     "solution": false,
     "task": false
    },
    "tags": []
   },
   "source": [
    "Plot the polynomial and the data to verify the result:"
   ]
  },
  {
   "cell_type": "code",
   "execution_count": 23,
   "id": "2bdcad1e-012a-441a-9513-39a482926b2b",
   "metadata": {
    "deletable": false,
    "editable": false,
    "nbgrader": {
     "cell_type": "code",
     "checksum": "2090426cd70d402471aa5e787a369fc5",
     "grade": false,
     "grade_id": "cell-df3e113766e3a97d",
     "locked": true,
     "schema_version": 3,
     "solution": false,
     "task": false
    },
    "tags": []
   },
   "outputs": [
    {
     "data": {
      "image/png": "[encoded data removed]",
      "text/plain": [
       "<Figure size 640x480 with 1 Axes>"
      ]
     },
     "metadata": {},
     "output_type": "display_data"
    }
   ],
   "source": [
    "X = np.linspace(-0.1,1.1,100)\n",
    "Y = sum([c4[i]*X**i for i in range(len(c4))])\n",
    "plt.plot(X,Y)\n",
    "x = np.linspace(0,10,11)/10\n",
    "y = np.sin(np.pi*x)\n",
    "plt.plot(x,y,'.',ms=10)\n",
    "plt.grid(True)\n",
    "plt.show()"
   ]
  },
  {
   "cell_type": "code",
   "execution_count": null,
   "id": "fcaf2bab-095e-4392-99b2-e6d00c099af3",
   "metadata": {},
   "outputs": [],
   "source": []
  }
 ],
 "metadata": {
  "kernelspec": {
   "display_name": "Python 3 (ipykernel)",
   "language": "python",
   "name": "python3"
  },
  "language_info": {
   "codemirror_mode": {
    "name": "ipython",
    "version": 3
   },
   "file_extension": ".py",
   "mimetype": "text/x-python",
   "name": "python",
   "nbconvert_exporter": "python",
   "pygments_lexer": "ipython3",
   "version": "3.11.4"
  }
 },
 "nbformat": 4,
 "nbformat_minor": 5
}
